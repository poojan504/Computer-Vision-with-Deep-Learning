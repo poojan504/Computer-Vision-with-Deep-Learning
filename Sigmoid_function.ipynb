{
  "nbformat": 4,
  "nbformat_minor": 0,
  "metadata": {
    "colab": {
      "provenance": [],
      "authorship_tag": "ABX9TyMcx9UHa2WyWQPpyqoondrW",
      "include_colab_link": true
    },
    "kernelspec": {
      "name": "python3",
      "display_name": "Python 3"
    },
    "language_info": {
      "name": "python"
    }
  },
  "cells": [
    {
      "cell_type": "markdown",
      "metadata": {
        "id": "view-in-github",
        "colab_type": "text"
      },
      "source": [
        "<a href=\"https://colab.research.google.com/github/poojan504/Computer-Vision-with-Deep-Learning/blob/master/Sigmoid_function.ipynb\" target=\"_parent\"><img src=\"https://colab.research.google.com/assets/colab-badge.svg\" alt=\"Open In Colab\"/></a>"
      ]
    },
    {
      "cell_type": "code",
      "execution_count": 2,
      "metadata": {
        "id": "uq6Laq0MTrMS"
      },
      "outputs": [],
      "source": [
        "from math import e"
      ]
    },
    {
      "cell_type": "code",
      "source": [
        "def sigmoid(x):\n",
        "  return 1/(1 + e**-x)"
      ],
      "metadata": {
        "id": "dVRr-PhATxTs"
      },
      "execution_count": 3,
      "outputs": []
    },
    {
      "cell_type": "code",
      "source": [
        "sigmoid(0.00001)"
      ],
      "metadata": {
        "colab": {
          "base_uri": "https://localhost:8080/"
        },
        "id": "yiy_RQpHUDck",
        "outputId": "77ba9eff-4dc5-41f0-d4c6-b5ed7f76520e"
      },
      "execution_count": 4,
      "outputs": [
        {
          "output_type": "execute_result",
          "data": {
            "text/plain": [
              "0.5000024999999999"
            ]
          },
          "metadata": {},
          "execution_count": 4
        }
      ]
    },
    {
      "cell_type": "code",
      "source": [
        "sigmoid(10000)"
      ],
      "metadata": {
        "colab": {
          "base_uri": "https://localhost:8080/"
        },
        "id": "7cT9_lkPUHJJ",
        "outputId": "8f574e44-4bf1-4003-a6f4-63ed816d8a36"
      },
      "execution_count": 5,
      "outputs": [
        {
          "output_type": "execute_result",
          "data": {
            "text/plain": [
              "1.0"
            ]
          },
          "metadata": {},
          "execution_count": 5
        }
      ]
    },
    {
      "cell_type": "markdown",
      "source": [
        "Larger input to the sigmoid function tends to give output to 1"
      ],
      "metadata": {
        "id": "TeBmVvWGUcle"
      }
    },
    {
      "cell_type": "code",
      "source": [
        "sigmoid(-10)"
      ],
      "metadata": {
        "colab": {
          "base_uri": "https://localhost:8080/"
        },
        "id": "5uvBqtdbULse",
        "outputId": "3c7f6717-8019-4fab-b144-e8f636b086cf"
      },
      "execution_count": 6,
      "outputs": [
        {
          "output_type": "execute_result",
          "data": {
            "text/plain": [
              "4.539786870243442e-05"
            ]
          },
          "metadata": {},
          "execution_count": 6
        }
      ]
    },
    {
      "cell_type": "markdown",
      "source": [
        "The advantage over perceptron of sigmoid is gradual change.in the given sigmoid parameters w or b , cause small gradual changes in z, there by producing similar gradual changes in the neourns activation a , large negative = 0 and large positive = 1"
      ],
      "metadata": {
        "id": "WF5puYvyUlx2"
      }
    },
    {
      "cell_type": "markdown",
      "source": [
        "Nuerons Saturation :- Reaching to the largley postive or negative values lead to the very none changes into the sigmoid function which leads to neurorns satuations as it will stop the learnings "
      ],
      "metadata": {
        "id": "xzKClbjDVXWF"
      }
    },
    {
      "cell_type": "markdown",
      "source": [
        "The difference between the tanh and sigmoid is :-\n",
        "sigmoid function ranges from 0 to 1 tanh function ranges from -1 to 1\n",
        "\n",
        "tanh activation function provides the 0 to the next neurons which can helpful for the saturated neurons to learn more efficently."
      ],
      "metadata": {
        "id": "i_NqXiy3Xvd0"
      }
    },
    {
      "cell_type": "markdown",
      "source": [
        "Relu Neurons are more closely related to the bioligical neurons.\n",
        "\n",
        "Relu function is two distinct linear functions. relu is non linear function which is very critical. which allow dL models to proximate any continous functions."
      ],
      "metadata": {
        "id": "zps_JSBkXyYZ"
      }
    },
    {
      "cell_type": "markdown",
      "source": [
        "most to least recommended :-\n",
        "RELU, tanh, sigmoid, perceptron"
      ],
      "metadata": {
        "id": "a85yihezX2We"
      }
    },
    {
      "cell_type": "code",
      "source": [],
      "metadata": {
        "id": "Rc2q7naaX5dF"
      },
      "execution_count": null,
      "outputs": []
    }
  ]
}