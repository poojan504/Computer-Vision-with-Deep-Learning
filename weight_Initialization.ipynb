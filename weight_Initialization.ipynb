{
  "nbformat": 4,
  "nbformat_minor": 0,
  "metadata": {
    "colab": {
      "provenance": [],
      "authorship_tag": "ABX9TyN0vpF8CHilR0SQoMOwup65",
      "include_colab_link": true
    },
    "kernelspec": {
      "name": "python3",
      "display_name": "Python 3"
    },
    "language_info": {
      "name": "python"
    }
  },
  "cells": [
    {
      "cell_type": "markdown",
      "metadata": {
        "id": "view-in-github",
        "colab_type": "text"
      },
      "source": [
        "<a href=\"https://colab.research.google.com/github/poojan504/Computer-Vision-with-Deep-Learning/blob/master/weight_Initialization.ipynb\" target=\"_parent\"><img src=\"https://colab.research.google.com/assets/colab-badge.svg\" alt=\"Open In Colab\"/></a>"
      ]
    },
    {
      "cell_type": "code",
      "execution_count": null,
      "metadata": {
        "id": "ypgU-0qUYOEL"
      },
      "outputs": [],
      "source": []
    },
    {
      "cell_type": "markdown",
      "source": [
        "weight initialization:-\n",
        "Mainly use to avoid neuron saturations.\n"
      ],
      "metadata": {
        "id": "eOCWT3A1YOgF"
      }
    },
    {
      "cell_type": "code",
      "source": [
        "import numpy as np\n",
        "import matplotlib.pyplot as plt\n",
        "\n",
        "from tensorflow.keras.initializers import Zeros,RandomNormal,glorot_normal,glorot_uniform\n",
        "from tensorflow.keras import Sequential\n",
        "from tensorflow.keras.layers import Dense,Activation"
      ],
      "metadata": {
        "id": "y-biTBNOY1F-"
      },
      "execution_count": 25,
      "outputs": []
    },
    {
      "cell_type": "code",
      "source": [
        "n_input = 784\n",
        "n_dense = 256"
      ],
      "metadata": {
        "id": "MaISWnBxY6eN"
      },
      "execution_count": 26,
      "outputs": []
    },
    {
      "cell_type": "markdown",
      "source": [
        "large weight and bias values tend to correspond to large z values that are far away from zeros. which means this implies that the network has a strong opinion. about how x is related to y.\n",
        "and therefore two saturated neurons.\n",
        "\n",
        "parameters values of zero provide weakly relation between x and y which is also not accurate\n",
        "\n",
        "Popular wight initialization methods:-\n",
        "1. Glorot distributions\n",
        "    this distributions are tailored such that sampling from them will lead to neurons initially outputting small near zero Z values.\n",
        "\n",
        "2. Glorot Uniform\n",
        "    this distributions are also other options\n",
        "3. He distribution\n",
        "4. LeCun Distribution"
      ],
      "metadata": {
        "id": "UZFIb6CSZCCd"
      }
    },
    {
      "cell_type": "code",
      "source": [
        "#bias \n",
        "b_init = Zeros()"
      ],
      "metadata": {
        "id": "T8v_zOtkZ68S"
      },
      "execution_count": 27,
      "outputs": []
    },
    {
      "cell_type": "code",
      "source": [
        "#w_init = RandomNormal(stddev=1.0)\n",
        "#w_init = glorot_normal()\n",
        "w_init = glorot_uniform"
      ],
      "metadata": {
        "id": "lcd3twgFZ9Yk"
      },
      "execution_count": 28,
      "outputs": []
    },
    {
      "cell_type": "code",
      "source": [
        "model = Sequential()\n",
        "model.add(Dense(n_dense,\n",
        "                input_dim = n_input,\n",
        "                kernel_initializer = w_init,\n",
        "                bias_initializer = b_init))\n",
        "#model.add(Activation('sigmoid'))\n",
        "#model.add(Activation('tanh'))\n",
        "model.add(Activation('relu'))"
      ],
      "metadata": {
        "id": "-okPDK7mbnJR"
      },
      "execution_count": 38,
      "outputs": []
    },
    {
      "cell_type": "code",
      "source": [
        "#generate random values\n",
        "x = np.random.random((1,n_input))"
      ],
      "metadata": {
        "id": "e7T4EoGQcMDZ"
      },
      "execution_count": 39,
      "outputs": []
    },
    {
      "cell_type": "code",
      "source": [
        "a=model.predict(x)"
      ],
      "metadata": {
        "colab": {
          "base_uri": "https://localhost:8080/"
        },
        "id": "Tx0w47VQcxv9",
        "outputId": "4445150c-0eaa-4a23-ddc0-c1360ad46326"
      },
      "execution_count": 40,
      "outputs": [
        {
          "output_type": "stream",
          "name": "stderr",
          "text": [
            "WARNING:tensorflow:5 out of the last 5 calls to <function Model.make_predict_function.<locals>.predict_function at 0x7f9980a16d30> triggered tf.function retracing. Tracing is expensive and the excessive number of tracings could be due to (1) creating @tf.function repeatedly in a loop, (2) passing tensors with different shapes, (3) passing Python objects instead of tensors. For (1), please define your @tf.function outside of the loop. For (2), @tf.function has reduce_retracing=True option that can avoid unnecessary retracing. For (3), please refer to https://www.tensorflow.org/guide/function#controlling_retracing and https://www.tensorflow.org/api_docs/python/tf/function for  more details.\n"
          ]
        },
        {
          "output_type": "stream",
          "name": "stdout",
          "text": [
            "1/1 [==============================] - 0s 60ms/step\n"
          ]
        }
      ]
    },
    {
      "cell_type": "code",
      "source": [
        "_ = plt.hist(np.transpose(a))"
      ],
      "metadata": {
        "colab": {
          "base_uri": "https://localhost:8080/",
          "height": 265
        },
        "id": "UexF6JlGc3fz",
        "outputId": "b74ddfa1-bc98-43f6-82a6-6a8d7b31c8bf"
      },
      "execution_count": 41,
      "outputs": [
        {
          "output_type": "display_data",
          "data": {
            "text/plain": [
              "<Figure size 432x288 with 1 Axes>"
            ],
            "image/png": "[encoded data removed]"
          },
          "metadata": {
            "needs_background": "light"
          }
        }
      ]
    },
    {
      "cell_type": "code",
      "source": [],
      "metadata": {
        "id": "9r5NSXuKc64N"
      },
      "execution_count": null,
      "outputs": []
    }
  ]
}