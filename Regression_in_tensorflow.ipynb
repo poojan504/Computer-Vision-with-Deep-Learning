{
  "nbformat": 4,
  "nbformat_minor": 0,
  "metadata": {
    "colab": {
      "provenance": [],
      "authorship_tag": "ABX9TyNq1aFWbVMa1f/9Ow0nlg1J",
      "include_colab_link": true
    },
    "kernelspec": {
      "name": "python3",
      "display_name": "Python 3"
    },
    "language_info": {
      "name": "python"
    },
    "accelerator": "GPU",
    "gpuClass": "premium"
  },
  "cells": [
    {
      "cell_type": "markdown",
      "metadata": {
        "id": "view-in-github",
        "colab_type": "text"
      },
      "source": [
        "<a href=\"https://colab.research.google.com/github/poojan504/Computer-Vision-with-Deep-Learning/blob/master/Regression_in_tensorflow.ipynb\" target=\"_parent\"><img src=\"https://colab.research.google.com/assets/colab-badge.svg\" alt=\"Open In Colab\"/></a>"
      ]
    },
    {
      "cell_type": "markdown",
      "source": [
        "Load Dependencies"
      ],
      "metadata": {
        "id": "XObzzI5t0iOD"
      }
    },
    {
      "cell_type": "code",
      "execution_count": 1,
      "metadata": {
        "id": "6lx-Ecio0VBh"
      },
      "outputs": [],
      "source": [
        "import tensorflow\n",
        "from tensorflow.keras.datasets import boston_housing\n",
        "from tensorflow.keras.models import Sequential\n",
        "from tensorflow.keras.layers import Dense,BatchNormalization,Dropout\n",
        "from tensorflow.keras.callbacks import ModelCheckpoint,TensorBoard\n",
        "from tensorflow.keras.optimizers import Adam\n",
        "import numpy as np\n",
        "import os"
      ]
    },
    {
      "cell_type": "code",
      "source": [
        "(x_train,y_train),(x_valid,y_valid) = boston_housing.load_data()"
      ],
      "metadata": {
        "colab": {
          "base_uri": "https://localhost:8080/"
        },
        "id": "bB6sMfqj0x7A",
        "outputId": "b6c1a895-7eca-4f2f-b054-5b10d1a3e3ea"
      },
      "execution_count": 2,
      "outputs": [
        {
          "output_type": "stream",
          "name": "stdout",
          "text": [
            "Downloading data from https://storage.googleapis.com/tensorflow/tf-keras-datasets/boston_housing.npz\n",
            "57026/57026 [==============================] - 0s 0us/step\n"
          ]
        }
      ]
    },
    {
      "cell_type": "markdown",
      "source": [
        "Preprocessing Data"
      ],
      "metadata": {
        "id": "oMVSlJdd1V73"
      }
    },
    {
      "cell_type": "markdown",
      "source": [
        "Design The model Architecture"
      ],
      "metadata": {
        "id": "2AWIBic77qjN"
      }
    },
    {
      "cell_type": "code",
      "source": [
        "model = Sequential()\n",
        "\n",
        "#first hidden layer\n",
        "model.add(Dense(32,activation ='elu',input_dim = 13))\n",
        "model.add(BatchNormalization())\n",
        "\n",
        "#second hidden layer\n",
        "model.add(Dense(16,activation = 'elu'))\n",
        "model.add(BatchNormalization())\n",
        "model.add(Dropout(0.5))\n",
        "#output layer\n",
        "\n",
        "model.add(Dense(1,activation='linear'))"
      ],
      "metadata": {
        "id": "h5ITt8SZ1dv1"
      },
      "execution_count": 3,
      "outputs": []
    },
    {
      "cell_type": "markdown",
      "source": [
        "configure Model"
      ],
      "metadata": {
        "id": "9yZdpNSrcD4X"
      }
    },
    {
      "cell_type": "code",
      "source": [
        "model.compile(loss ='mean_squared_error',optimizer='nadam')"
      ],
      "metadata": {
        "id": "NMLRw4cu1re9"
      },
      "execution_count": 4,
      "outputs": []
    },
    {
      "cell_type": "code",
      "source": [
        "output_dir = 'model_output/'"
      ],
      "metadata": {
        "id": "PiZBdqVKdhHG"
      },
      "execution_count": 5,
      "outputs": []
    },
    {
      "cell_type": "code",
      "source": [
        "run_name = 'regression_layer50'\n",
        "output_path = output_dir+run_name"
      ],
      "metadata": {
        "id": "2aA7D-A3dmxW"
      },
      "execution_count": 6,
      "outputs": []
    },
    {
      "cell_type": "code",
      "source": [
        "if not os.path.exists(output_path):\n",
        "  os.makedirs(output_path)"
      ],
      "metadata": {
        "id": "H-Ui7MqTdmpA"
      },
      "execution_count": 7,
      "outputs": []
    },
    {
      "cell_type": "code",
      "source": [
        "Modelcheckpoint = ModelCheckpoint(output_path+ '/weights.{epoch:02d}.hdf5',\n",
        "                                  save_weights_only= True)"
      ],
      "metadata": {
        "id": "xY_qE997dmcg"
      },
      "execution_count": 8,
      "outputs": []
    },
    {
      "cell_type": "code",
      "source": [
        "tensorboard = TensorBoard(log_dir = 'logs/' +run_name)"
      ],
      "metadata": {
        "id": "vCjS49AfeIHE"
      },
      "execution_count": 9,
      "outputs": []
    },
    {
      "cell_type": "code",
      "source": [
        "model.fit(x_train,y_train,epochs=100,verbose=1,validation_data=(x_valid,y_valid),\n",
        "          callbacks = [Modelcheckpoint,tensorboard])"
      ],
      "metadata": {
        "colab": {
          "base_uri": "https://localhost:8080/"
        },
        "id": "G6FTU2Cdc3Ka",
        "outputId": "b94684f4-0eb4-4c36-9295-3f8698eccbed"
      },
      "execution_count": 10,
      "outputs": [
        {
          "output_type": "stream",
          "name": "stdout",
          "text": [
            "Epoch 1/100\n",
            "13/13 [==============================] - 8s 27ms/step - loss: 579.6829 - val_loss: 919.8430\n",
            "Epoch 2/100\n",
            "13/13 [==============================] - 0s 9ms/step - loss: 572.0088 - val_loss: 792.4818\n",
            "Epoch 3/100\n",
            "13/13 [==============================] - 0s 9ms/step - loss: 567.5043 - val_loss: 723.7831\n",
            "Epoch 4/100\n",
            "13/13 [==============================] - 0s 8ms/step - loss: 559.2130 - val_loss: 684.2830\n",
            "Epoch 5/100\n",
            "13/13 [==============================] - 0s 8ms/step - loss: 557.3668 - val_loss: 660.7703\n",
            "Epoch 6/100\n",
            "13/13 [==============================] - 0s 8ms/step - loss: 551.2287 - val_loss: 639.9578\n",
            "Epoch 7/100\n",
            "13/13 [==============================] - 0s 9ms/step - loss: 541.6992 - val_loss: 622.2595\n",
            "Epoch 8/100\n",
            "13/13 [==============================] - 0s 9ms/step - loss: 535.8638 - val_loss: 601.9083\n",
            "Epoch 9/100\n",
            "13/13 [==============================] - 0s 9ms/step - loss: 542.0492 - val_loss: 593.0073\n",
            "Epoch 10/100\n",
            "13/13 [==============================] - 0s 9ms/step - loss: 531.5769 - val_loss: 580.3254\n",
            "Epoch 11/100\n",
            "13/13 [==============================] - 0s 9ms/step - loss: 523.0582 - val_loss: 566.1682\n",
            "Epoch 12/100\n",
            "13/13 [==============================] - 0s 8ms/step - loss: 512.6305 - val_loss: 551.3887\n",
            "Epoch 13/100\n",
            "13/13 [==============================] - 0s 9ms/step - loss: 514.2436 - val_loss: 553.1882\n",
            "Epoch 14/100\n",
            "13/13 [==============================] - 0s 8ms/step - loss: 510.5874 - val_loss: 566.2318\n",
            "Epoch 15/100\n",
            "13/13 [==============================] - 0s 8ms/step - loss: 492.5690 - val_loss: 582.3874\n",
            "Epoch 16/100\n",
            "13/13 [==============================] - 0s 8ms/step - loss: 488.6307 - val_loss: 581.9589\n",
            "Epoch 17/100\n",
            "13/13 [==============================] - 0s 8ms/step - loss: 482.3889 - val_loss: 601.0124\n",
            "Epoch 18/100\n",
            "13/13 [==============================] - 0s 9ms/step - loss: 490.1118 - val_loss: 619.1232\n",
            "Epoch 19/100\n",
            "13/13 [==============================] - 0s 10ms/step - loss: 471.3453 - val_loss: 621.9144\n",
            "Epoch 20/100\n",
            "13/13 [==============================] - 0s 8ms/step - loss: 455.9368 - val_loss: 581.8381\n",
            "Epoch 21/100\n",
            "13/13 [==============================] - 0s 8ms/step - loss: 448.7878 - val_loss: 565.8835\n",
            "Epoch 22/100\n",
            "13/13 [==============================] - 0s 8ms/step - loss: 441.9764 - val_loss: 609.8841\n",
            "Epoch 23/100\n",
            "13/13 [==============================] - 0s 8ms/step - loss: 426.2421 - val_loss: 647.4030\n",
            "Epoch 24/100\n",
            "13/13 [==============================] - 0s 8ms/step - loss: 427.1564 - val_loss: 654.9014\n",
            "Epoch 25/100\n",
            "13/13 [==============================] - 0s 8ms/step - loss: 406.1017 - val_loss: 658.5361\n",
            "Epoch 26/100\n",
            "13/13 [==============================] - 0s 8ms/step - loss: 401.6282 - val_loss: 657.2018\n",
            "Epoch 27/100\n",
            "13/13 [==============================] - 0s 9ms/step - loss: 398.6765 - val_loss: 711.3843\n",
            "Epoch 28/100\n",
            "13/13 [==============================] - 0s 9ms/step - loss: 390.8628 - val_loss: 735.7698\n",
            "Epoch 29/100\n",
            "13/13 [==============================] - 0s 8ms/step - loss: 377.4605 - val_loss: 698.6653\n",
            "Epoch 30/100\n",
            "13/13 [==============================] - 0s 8ms/step - loss: 374.6512 - val_loss: 707.6990\n",
            "Epoch 31/100\n",
            "13/13 [==============================] - 0s 8ms/step - loss: 360.5495 - val_loss: 691.6624\n",
            "Epoch 32/100\n",
            "13/13 [==============================] - 0s 8ms/step - loss: 349.3596 - val_loss: 730.6699\n",
            "Epoch 33/100\n",
            "13/13 [==============================] - 0s 8ms/step - loss: 335.1585 - val_loss: 736.2017\n",
            "Epoch 34/100\n",
            "13/13 [==============================] - 0s 8ms/step - loss: 328.3426 - val_loss: 664.7007\n",
            "Epoch 35/100\n",
            "13/13 [==============================] - 0s 8ms/step - loss: 320.0361 - val_loss: 662.0787\n",
            "Epoch 36/100\n",
            "13/13 [==============================] - 0s 8ms/step - loss: 318.7339 - val_loss: 713.6255\n",
            "Epoch 37/100\n",
            "13/13 [==============================] - 0s 8ms/step - loss: 293.4217 - val_loss: 677.0402\n",
            "Epoch 38/100\n",
            "13/13 [==============================] - 0s 8ms/step - loss: 287.6736 - val_loss: 629.1839\n",
            "Epoch 39/100\n",
            "13/13 [==============================] - 0s 8ms/step - loss: 264.3731 - val_loss: 576.2358\n",
            "Epoch 40/100\n",
            "13/13 [==============================] - 0s 9ms/step - loss: 272.9383 - val_loss: 578.0082\n",
            "Epoch 41/100\n",
            "13/13 [==============================] - 0s 8ms/step - loss: 258.2824 - val_loss: 541.8389\n",
            "Epoch 42/100\n",
            "13/13 [==============================] - 0s 8ms/step - loss: 250.7819 - val_loss: 564.4358\n",
            "Epoch 43/100\n",
            "13/13 [==============================] - 0s 9ms/step - loss: 243.3616 - val_loss: 532.7424\n",
            "Epoch 44/100\n",
            "13/13 [==============================] - 0s 8ms/step - loss: 230.8229 - val_loss: 452.8525\n",
            "Epoch 45/100\n",
            "13/13 [==============================] - 0s 8ms/step - loss: 229.4244 - val_loss: 419.0474\n",
            "Epoch 46/100\n",
            "13/13 [==============================] - 0s 8ms/step - loss: 210.2405 - val_loss: 424.6948\n",
            "Epoch 47/100\n",
            "13/13 [==============================] - 0s 8ms/step - loss: 208.5614 - val_loss: 432.6395\n",
            "Epoch 48/100\n",
            "13/13 [==============================] - 0s 8ms/step - loss: 195.2887 - val_loss: 371.1447\n",
            "Epoch 49/100\n",
            "13/13 [==============================] - 0s 9ms/step - loss: 200.8098 - val_loss: 303.9276\n",
            "Epoch 50/100\n",
            "13/13 [==============================] - 0s 8ms/step - loss: 182.1985 - val_loss: 278.0624\n",
            "Epoch 51/100\n",
            "13/13 [==============================] - 0s 8ms/step - loss: 176.5093 - val_loss: 227.7809\n",
            "Epoch 52/100\n",
            "13/13 [==============================] - 0s 8ms/step - loss: 176.2574 - val_loss: 240.5533\n",
            "Epoch 53/100\n",
            "13/13 [==============================] - 0s 8ms/step - loss: 165.3448 - val_loss: 222.6291\n",
            "Epoch 54/100\n",
            "13/13 [==============================] - 0s 8ms/step - loss: 152.9025 - val_loss: 196.3407\n",
            "Epoch 55/100\n",
            "13/13 [==============================] - 0s 8ms/step - loss: 153.6735 - val_loss: 166.2588\n",
            "Epoch 56/100\n",
            "13/13 [==============================] - 0s 9ms/step - loss: 137.4961 - val_loss: 154.6867\n",
            "Epoch 57/100\n",
            "13/13 [==============================] - 0s 9ms/step - loss: 136.7131 - val_loss: 176.8167\n",
            "Epoch 58/100\n",
            "13/13 [==============================] - 0s 8ms/step - loss: 140.4640 - val_loss: 172.8336\n",
            "Epoch 59/100\n",
            "13/13 [==============================] - 0s 9ms/step - loss: 122.6034 - val_loss: 184.7135\n",
            "Epoch 60/100\n",
            "13/13 [==============================] - 0s 8ms/step - loss: 122.3419 - val_loss: 129.6147\n",
            "Epoch 61/100\n",
            "13/13 [==============================] - 0s 9ms/step - loss: 117.9459 - val_loss: 128.8411\n",
            "Epoch 62/100\n",
            "13/13 [==============================] - 0s 8ms/step - loss: 107.5626 - val_loss: 132.5264\n",
            "Epoch 63/100\n",
            "13/13 [==============================] - 0s 9ms/step - loss: 112.4020 - val_loss: 131.1049\n",
            "Epoch 64/100\n",
            "13/13 [==============================] - 0s 8ms/step - loss: 114.5145 - val_loss: 126.3645\n",
            "Epoch 65/100\n",
            "13/13 [==============================] - 0s 8ms/step - loss: 99.9661 - val_loss: 145.1283\n",
            "Epoch 66/100\n",
            "13/13 [==============================] - 0s 9ms/step - loss: 93.1199 - val_loss: 114.9270\n",
            "Epoch 67/100\n",
            "13/13 [==============================] - 0s 8ms/step - loss: 95.3297 - val_loss: 90.3050\n",
            "Epoch 68/100\n",
            "13/13 [==============================] - 0s 8ms/step - loss: 89.2897 - val_loss: 92.5024\n",
            "Epoch 69/100\n",
            "13/13 [==============================] - 0s 8ms/step - loss: 93.4621 - val_loss: 86.8395\n",
            "Epoch 70/100\n",
            "13/13 [==============================] - 0s 8ms/step - loss: 89.9821 - val_loss: 78.1668\n",
            "Epoch 71/100\n",
            "13/13 [==============================] - 0s 8ms/step - loss: 84.9399 - val_loss: 76.0393\n",
            "Epoch 72/100\n",
            "13/13 [==============================] - 0s 8ms/step - loss: 78.9639 - val_loss: 67.8865\n",
            "Epoch 73/100\n",
            "13/13 [==============================] - 0s 9ms/step - loss: 68.0040 - val_loss: 58.9362\n",
            "Epoch 74/100\n",
            "13/13 [==============================] - 0s 8ms/step - loss: 73.7942 - val_loss: 55.9857\n",
            "Epoch 75/100\n",
            "13/13 [==============================] - 0s 9ms/step - loss: 79.8325 - val_loss: 59.1219\n",
            "Epoch 76/100\n",
            "13/13 [==============================] - 0s 8ms/step - loss: 73.1737 - val_loss: 58.5375\n",
            "Epoch 77/100\n",
            "13/13 [==============================] - 0s 8ms/step - loss: 69.1078 - val_loss: 45.3813\n",
            "Epoch 78/100\n",
            "13/13 [==============================] - 0s 8ms/step - loss: 75.5210 - val_loss: 55.7432\n",
            "Epoch 79/100\n",
            "13/13 [==============================] - 0s 8ms/step - loss: 72.6213 - val_loss: 53.3412\n",
            "Epoch 80/100\n",
            "13/13 [==============================] - 0s 8ms/step - loss: 65.3083 - val_loss: 53.0438\n",
            "Epoch 81/100\n",
            "13/13 [==============================] - 0s 8ms/step - loss: 62.5586 - val_loss: 62.2052\n",
            "Epoch 82/100\n",
            "13/13 [==============================] - 0s 9ms/step - loss: 70.3292 - val_loss: 65.5319\n",
            "Epoch 83/100\n",
            "13/13 [==============================] - 0s 8ms/step - loss: 75.8865 - val_loss: 185.8158\n",
            "Epoch 84/100\n",
            "13/13 [==============================] - 0s 8ms/step - loss: 67.8517 - val_loss: 71.6300\n",
            "Epoch 85/100\n",
            "13/13 [==============================] - 0s 9ms/step - loss: 60.1540 - val_loss: 51.1147\n",
            "Epoch 86/100\n",
            "13/13 [==============================] - 0s 8ms/step - loss: 61.0940 - val_loss: 52.6671\n",
            "Epoch 87/100\n",
            "13/13 [==============================] - 0s 8ms/step - loss: 63.9658 - val_loss: 57.4542\n",
            "Epoch 88/100\n",
            "13/13 [==============================] - 0s 8ms/step - loss: 62.0097 - val_loss: 59.9439\n",
            "Epoch 89/100\n",
            "13/13 [==============================] - 0s 8ms/step - loss: 69.2293 - val_loss: 59.8017\n",
            "Epoch 90/100\n",
            "13/13 [==============================] - 0s 8ms/step - loss: 66.0612 - val_loss: 45.6351\n",
            "Epoch 91/100\n",
            "13/13 [==============================] - 0s 8ms/step - loss: 52.4460 - val_loss: 36.7443\n",
            "Epoch 92/100\n",
            "13/13 [==============================] - 0s 8ms/step - loss: 66.4633 - val_loss: 47.7365\n",
            "Epoch 93/100\n",
            "13/13 [==============================] - 0s 9ms/step - loss: 65.3508 - val_loss: 37.1149\n",
            "Epoch 94/100\n",
            "13/13 [==============================] - 0s 8ms/step - loss: 51.7421 - val_loss: 31.0548\n",
            "Epoch 95/100\n",
            "13/13 [==============================] - 0s 9ms/step - loss: 62.3759 - val_loss: 34.1955\n",
            "Epoch 96/100\n",
            "13/13 [==============================] - 0s 8ms/step - loss: 53.7371 - val_loss: 33.9561\n",
            "Epoch 97/100\n",
            "13/13 [==============================] - 0s 9ms/step - loss: 56.8320 - val_loss: 33.8316\n",
            "Epoch 98/100\n",
            "13/13 [==============================] - 0s 8ms/step - loss: 64.4545 - val_loss: 42.0821\n",
            "Epoch 99/100\n",
            "13/13 [==============================] - 0s 8ms/step - loss: 50.1378 - val_loss: 41.4596\n",
            "Epoch 100/100\n",
            "13/13 [==============================] - 0s 9ms/step - loss: 63.9475 - val_loss: 39.8429\n"
          ]
        },
        {
          "output_type": "execute_result",
          "data": {
            "text/plain": [
              "<keras.callbacks.History at 0x7fac9018b880>"
            ]
          },
          "metadata": {},
          "execution_count": 10
        }
      ]
    },
    {
      "cell_type": "code",
      "source": [
        "model.load_weights(output_path + '/weights.19.hdf5')"
      ],
      "metadata": {
        "id": "7B3KGJ3CenMA"
      },
      "execution_count": 11,
      "outputs": []
    },
    {
      "cell_type": "markdown",
      "source": [
        "# New Section"
      ],
      "metadata": {
        "id": "oPbgiY7xtLeo"
      }
    },
    {
      "cell_type": "code",
      "source": [
        "x_valid[42]"
      ],
      "metadata": {
        "colab": {
          "base_uri": "https://localhost:8080/"
        },
        "id": "fb2YyQ1di8PC",
        "outputId": "e2848df2-9aab-4f12-e7f5-be64f8549587"
      },
      "execution_count": 12,
      "outputs": [
        {
          "output_type": "execute_result",
          "data": {
            "text/plain": [
              "array([  9.32909,   0.     ,  18.1    ,   0.     ,   0.713  ,   6.185  ,\n",
              "        98.7    ,   2.2616 ,  24.     , 666.     ,  20.2    , 396.9    ,\n",
              "        18.13   ])"
            ]
          },
          "metadata": {},
          "execution_count": 12
        }
      ]
    },
    {
      "cell_type": "code",
      "source": [
        "y_valid[42]"
      ],
      "metadata": {
        "colab": {
          "base_uri": "https://localhost:8080/"
        },
        "id": "gZ5ovhPTjDFg",
        "outputId": "0a78aba1-0dc5-46be-f844-993ab9846e3d"
      },
      "execution_count": 13,
      "outputs": [
        {
          "output_type": "execute_result",
          "data": {
            "text/plain": [
              "14.1"
            ]
          },
          "metadata": {},
          "execution_count": 13
        }
      ]
    },
    {
      "cell_type": "code",
      "source": [
        "model.predict(np.reshape(x_valid[42],[1,13]))"
      ],
      "metadata": {
        "colab": {
          "base_uri": "https://localhost:8080/"
        },
        "id": "kJxyHvoCjFef",
        "outputId": "7f9d18c2-2722-4a3c-a6d1-4087c70e09d5"
      },
      "execution_count": 14,
      "outputs": [
        {
          "output_type": "stream",
          "name": "stdout",
          "text": [
            "1/1 [==============================] - 0s 204ms/step\n"
          ]
        },
        {
          "output_type": "execute_result",
          "data": {
            "text/plain": [
              "array([[-4.638954]], dtype=float32)"
            ]
          },
          "metadata": {},
          "execution_count": 14
        }
      ]
    },
    {
      "cell_type": "code",
      "source": [],
      "metadata": {
        "id": "SCWyGRetjK6m"
      },
      "execution_count": 14,
      "outputs": []
    }
  ]
}